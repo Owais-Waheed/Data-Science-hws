{
 "cells": [
  {
   "cell_type": "markdown",
   "id": "92f1a2e6-1b9a-4fb3-928c-626e53063573",
   "metadata": {},
   "source": [
    "# CS 457 - Homework Assignment 4: Statistical Inference\n",
    "## Name: Owais Waheed (ow07611)\n",
    "### Email: ow07611@st.habib.edu.pk\n",
    "\n",
    "\n"
   ]
  },
  {
   "cell_type": "markdown",
   "id": "6b2c38ef-ce2a-42fb-80b2-068082d1a4d5",
   "metadata": {},
   "source": [
    "#### Importing required libraries and reading data from csv file"
   ]
  },
  {
   "cell_type": "code",
   "execution_count": 1,
   "id": "099b4d26-9431-4833-862d-689046ca1d20",
   "metadata": {
    "tags": []
   },
   "outputs": [
    {
     "name": "stdout",
     "output_type": "stream",
     "text": [
      "<class 'pandas.core.frame.DataFrame'>\n",
      "RangeIndex: 1470 entries, 0 to 1469\n",
      "Data columns (total 32 columns):\n",
      " #   Column                    Non-Null Count  Dtype \n",
      "---  ------                    --------------  ----- \n",
      " 0   Age                       1470 non-null   int64 \n",
      " 1   BusinessTravel            1470 non-null   object\n",
      " 2   DailyRate                 1470 non-null   int64 \n",
      " 3   Department                1470 non-null   object\n",
      " 4   DistanceFromHome          1470 non-null   int64 \n",
      " 5   Education                 1470 non-null   int64 \n",
      " 6   EducationField            1470 non-null   object\n",
      " 7   EnvironmentSatisfaction   1470 non-null   int64 \n",
      " 8   Gender                    1470 non-null   object\n",
      " 9   HourlyRate                1470 non-null   int64 \n",
      " 10  JobInvolvement            1470 non-null   int64 \n",
      " 11  JobLevel                  1470 non-null   int64 \n",
      " 12  JobRole                   1470 non-null   object\n",
      " 13  JobSatisfaction           1470 non-null   int64 \n",
      " 14  MaritalStatus             1470 non-null   object\n",
      " 15  MonthlyIncome             1470 non-null   int64 \n",
      " 16  MonthlyRate               1470 non-null   int64 \n",
      " 17  NumCompaniesWorked        1470 non-null   int64 \n",
      " 18  OverTime                  1470 non-null   object\n",
      " 19  PercentSalaryHike         1470 non-null   int64 \n",
      " 20  PerformanceRating         1470 non-null   int64 \n",
      " 21  RelationshipSatisfaction  1470 non-null   int64 \n",
      " 22  StandardHours             1470 non-null   int64 \n",
      " 23  StockOptionLevel          1470 non-null   int64 \n",
      " 24  TotalWorkingYears         1470 non-null   int64 \n",
      " 25  TrainingTimesLastYear     1470 non-null   int64 \n",
      " 26  WorkLifeBalance           1470 non-null   int64 \n",
      " 27  YearsAtCompany            1470 non-null   int64 \n",
      " 28  YearsInCurrentRole        1470 non-null   int64 \n",
      " 29  YearsSinceLastPromotion   1470 non-null   int64 \n",
      " 30  YearsWithCurrManager      1470 non-null   int64 \n",
      " 31  Attrition                 1470 non-null   object\n",
      "dtypes: int64(24), object(8)\n",
      "memory usage: 367.6+ KB\n"
     ]
    }
   ],
   "source": [
    "import pandas as pd\n",
    "import numpy as np\n",
    "from scipy import stats\n",
    "\n",
    "df = pd.read_csv('EmployeeAttrition.csv')\n",
    "df.info()"
   ]
  },
  {
   "cell_type": "markdown",
   "id": "31fbab48-e370-48ed-b20d-a277628a62f5",
   "metadata": {},
   "source": [
    "### Q1. If the MonthlyIncome of Males is greater than Females\n",
    "\n",
    "\n",
    "H0 -> Monthly income of males is (not greater) lesser than or equal to female.<br>\n",
    "H1 -> Monthly income of males is greater than female <br>\n",
    "\n"
   ]
  },
  {
   "cell_type": "code",
   "execution_count": 2,
   "id": "4d4dcad1-9a0d-42bf-89d4-14f358cf44d9",
   "metadata": {
    "tags": []
   },
   "outputs": [
    {
     "data": {
      "text/plain": [
       "Ttest_indResult(statistic=-1.2212617308870655, pvalue=0.8889084827245606)"
      ]
     },
     "execution_count": 2,
     "metadata": {},
     "output_type": "execute_result"
    }
   ],
   "source": [
    "male_s = df[(df['Gender'] == 'Male')]['MonthlyIncome']\n",
    "\n",
    "female_s = df[(df['Gender'] == 'Female')]['MonthlyIncome']\n",
    "\n",
    "\n",
    "stats.ttest_ind(male_s, female_s, alternative='greater')"
   ]
  },
  {
   "cell_type": "markdown",
   "id": "3f47d74b-5570-4217-bdb0-e689906a9bc3",
   "metadata": {},
   "source": [
    "Since, p_value = 0.888 > 0.05 we can not reject null hypothesis that is monthly income of males is less than female. And so we have to reject accepting hypothesis.\n",
    "<br> Based on this test, we can say we do not have enough evidence to prove our accept hypothesis that monthly income of male is greater than females"
   ]
  },
  {
   "cell_type": "markdown",
   "id": "912077e4-e62b-43ed-9b85-0007cf6a55dc",
   "metadata": {},
   "source": [
    "### Q2. If the WorkLifeBalance of Males is less than Females\n",
    "\n",
    "H0 ->  The Worklife Balance of males is not less (greatar or equal to) than females <br>\n",
    "H1 -> The Worklife Balance of males is less than females.\n"
   ]
  },
  {
   "cell_type": "code",
   "execution_count": 3,
   "id": "220b0dc8-fdad-417c-9d16-610b4e0aeb1c",
   "metadata": {
    "tags": []
   },
   "outputs": [
    {
     "name": "stdout",
     "output_type": "stream",
     "text": [
      "2.7636054421768708\n"
     ]
    },
    {
     "data": {
      "text/plain": [
       "Ttest_indResult(statistic=-0.10546787956064164, pvalue=0.45800948246831286)"
      ]
     },
     "execution_count": 3,
     "metadata": {},
     "output_type": "execute_result"
    }
   ],
   "source": [
    "male_wlb = df[(df['Gender'] == 'Male')]['WorkLifeBalance']\n",
    "# print(male_wlb.sum()/len(male_wlb))\n",
    "female_wlb = df[(df['Gender'] == 'Female')]['WorkLifeBalance']\n",
    "print(female_wlb.sum()/len(female_wlb))\n",
    "stats.ttest_ind(male_wlb, female_wlb, alternative='less')"
   ]
  },
  {
   "cell_type": "markdown",
   "id": "39c223c4-545e-4465-84d3-cc4f3601a9a1",
   "metadata": {
    "tags": []
   },
   "source": [
    "Since, p_value = 0.45 > 0.05 we can not reject null hypothesis that is worklife balance is not less than females.. And so we have to reject accepting hypothesis.\n",
    "<br> Based on this test, we can say we do not have enough evidence to prove our accept hypothesis that worklife balance of males is less than females. "
   ]
  },
  {
   "cell_type": "markdown",
   "id": "6e53165d-6dd8-43b3-bc4d-aa983dfd546c",
   "metadata": {},
   "source": [
    "### Q3. If the YearsAtCompany of Single is less than Married\n",
    "\n",
    "H0 -> The Years at Company of single is not less (greater or equal to) than Married. <br>\n",
    "H1 -> The Years at Company of single is less than Married.\n"
   ]
  },
  {
   "cell_type": "code",
   "execution_count": 4,
   "id": "82b10553-9722-49af-817b-425dd7faea25",
   "metadata": {
    "tags": []
   },
   "outputs": [
    {
     "data": {
      "text/plain": [
       "Ttest_indResult(statistic=-2.5589985737464476, pvalue=0.0053127663549315815)"
      ]
     },
     "execution_count": 4,
     "metadata": {},
     "output_type": "execute_result"
    }
   ],
   "source": [
    "single_yrs = df[(df['MaritalStatus'] == 'Single')]['YearsAtCompany']\n",
    "# print(single_yrs.sum()/len(single_yrs))\n",
    "married_yrs = df[(df['MaritalStatus'] == 'Married')]['YearsAtCompany']\n",
    "# print(married_yrs.sum()/len(married_yrs))\n",
    "\n",
    "stats.ttest_ind(single_yrs, married_yrs, alternative='less')"
   ]
  },
  {
   "cell_type": "markdown",
   "id": "d0e961f2-dd14-4bb9-a9ae-5300c61bc0c8",
   "metadata": {},
   "source": [
    "Since, p_value = 0.0053 which is < 0.05 , we can reject the null hypothesis and safely conclude that singles have less years at companies than married employees."
   ]
  },
  {
   "cell_type": "markdown",
   "id": "55dc0888-551e-407f-9d04-5964083f8f73",
   "metadata": {},
   "source": [
    "### Q4. If the EnvironmentalSatisfaction of Attrition=Yes is less than Attrition=No\n",
    "\n",
    "H0 -> The EnvironmentalSatisfaction of Attrition=Yes is not less (greater or equal) than EnvironmentalSatisfaction of Attrition=No. <br>\n",
    "H1 -> The EnvironmentalSatisfaction of Attrition=Yes is less than EnvironmentalSatisfaction of Attrition=No."
   ]
  },
  {
   "cell_type": "code",
   "execution_count": 5,
   "id": "522643f0-d9f1-49e4-b777-2d573485c19c",
   "metadata": {
    "tags": []
   },
   "outputs": [
    {
     "data": {
      "text/plain": [
       "Ttest_indResult(statistic=-3.9818600026818496, pvalue=3.58616927468443e-05)"
      ]
     },
     "execution_count": 5,
     "metadata": {},
     "output_type": "execute_result"
    }
   ],
   "source": [
    "yes = df[(df['Attrition']=='Yes') ]['EnvironmentSatisfaction']\n",
    "no = df[(df['Attrition']=='No') ]['EnvironmentSatisfaction']\n",
    "\n",
    "stats.ttest_ind(yes, no, alternative = 'less')"
   ]
  },
  {
   "cell_type": "markdown",
   "id": "df928106-6aa3-4c08-9d65-1f75af4ab7ba",
   "metadata": {},
   "source": [
    "Since, p-value = 3.35e-05 which is way less than 0.05, we can reject the null hypothesis and can safely conclude that employees whose attrition = yes have less environment satisfaction and whose attrition = no have higher environment satisfaction. <br> \n",
    "So we might think that work environment can be one reason for attrition. But this statement requires more testing because this statistic test only shows corelation. so we can not drive causation solely based on this."
   ]
  },
  {
   "cell_type": "markdown",
   "id": "214b93a2-ccc4-4757-bedd-485cfa56cd49",
   "metadata": {},
   "source": [
    "### Q5. If the MonthlyIncome of Manager is greater than Laboratory Technician (Hint: Use JobRole to find Manager and Laboratory Technician)\n",
    "\n",
    "H0 -> The Monthly Income of Manager is not greater than (less or equal) MonthlyIncome of Laboratory Technician. <br>\n",
    "H1 -> The Monthly Income of Manager is greater than MonthlyIncome of Laboratory Technician."
   ]
  },
  {
   "cell_type": "code",
   "execution_count": 6,
   "id": "f6849954-7082-4ea5-90fa-e34d7dd28331",
   "metadata": {
    "tags": []
   },
   "outputs": [
    {
     "data": {
      "text/plain": [
       "Ttest_indResult(statistic=76.03317414634023, pvalue=9.971168334368433e-224)"
      ]
     },
     "execution_count": 6,
     "metadata": {},
     "output_type": "execute_result"
    }
   ],
   "source": [
    "Manager_s = df[(df['JobRole'] == 'Manager')]['MonthlyIncome']\n",
    "Lab_s = df[(df['JobRole'] == 'Laboratory Technician')]['MonthlyIncome']\n",
    "\n",
    "stats.ttest_ind(Manager_s, Lab_s, alternative='greater')"
   ]
  },
  {
   "cell_type": "markdown",
   "id": "02b6dc4d-ac58-4798-8c2f-6358acf16862",
   "metadata": {},
   "source": [
    "Since p-value = 9.97e-224 which is way way lesser than 0.05, we can reject the null hypothesis and safely conclude that the monthly income of manager is greater than monthly income of Lab technician.  "
   ]
  },
  {
   "cell_type": "markdown",
   "id": "c079799a-c1c0-47ad-beb8-82e03169a9fc",
   "metadata": {},
   "source": [
    "### Q6. Is there any association between the Department and Gender?\n",
    "\n",
    "H0 -> There is no association between the variables <br>\n",
    "H1 -> There is association between the variables"
   ]
  },
  {
   "cell_type": "code",
   "execution_count": 7,
   "id": "83a1d814-3768-4e46-97a1-e07d9af8650d",
   "metadata": {
    "tags": []
   },
   "outputs": [
    {
     "data": {
      "text/plain": [
       "Chi2ContingencyResult(statistic=2.9644916359463056, pvalue=0.3971323304462201, dof=3, expected_freq=array([[ 25.2, 384.4, 178.4, 588. ],\n",
       "       [ 37.8, 576.6, 267.6, 882. ]]))"
      ]
     },
     "execution_count": 7,
     "metadata": {},
     "output_type": "execute_result"
    }
   ],
   "source": [
    "chisqt = pd.crosstab(df['Gender'],df['Department'], margins=True)\n",
    "value = np.array([chisqt.iloc[0][0:].values, chisqt.iloc[1][0:].values])\n",
    "stats.chi2_contingency(value)\n",
    "\n"
   ]
  },
  {
   "cell_type": "markdown",
   "id": "7fea69e2-ab98-43dc-9a3d-91f7a23c26c4",
   "metadata": {},
   "source": [
    "From above, 0.397 is the p-value. As the p-value is greater than 0.05, we accept the NULL hypothesis and conclude that the variables ‘Department’ and ‘Gender’ are independent of each other and have no significant relationship."
   ]
  },
  {
   "cell_type": "code",
   "execution_count": null,
   "id": "0bc3c0b7-c4e0-42cb-8fc1-6fa4898354ee",
   "metadata": {},
   "outputs": [],
   "source": []
  }
 ],
 "metadata": {
  "kernelspec": {
   "display_name": "Python 3 (ipykernel)",
   "language": "python",
   "name": "python3"
  },
  "language_info": {
   "codemirror_mode": {
    "name": "ipython",
    "version": 3
   },
   "file_extension": ".py",
   "mimetype": "text/x-python",
   "name": "python",
   "nbconvert_exporter": "python",
   "pygments_lexer": "ipython3",
   "version": "3.11.4"
  }
 },
 "nbformat": 4,
 "nbformat_minor": 5
}
